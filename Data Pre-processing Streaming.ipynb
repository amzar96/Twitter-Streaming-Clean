{
 "cells": [
  {
   "cell_type": "code",
   "execution_count": 142,
   "metadata": {},
   "outputs": [],
   "source": [
    "import json\n",
    "import pandas as pd\n",
    "import matplotlib.pyplot as plt\n",
    "import re\n",
    "import csv\n",
    "import nltk\n",
    "from nltk.corpus import stopwords # Import the stop word list\n",
    "from sklearn.feature_extraction.text import CountVectorizer\n",
    "import numpy as np, pylab as pl\n",
    "from sklearn.ensemble import RandomForestClassifier\n",
    "from sklearn.cross_validation import train_test_split\n",
    "from sklearn import metrics\n",
    "from nltk.tokenize import word_tokenize\n",
    "from nltk.stem import PorterStemmer"
   ]
  },
  {
   "cell_type": "code",
   "execution_count": 143,
   "metadata": {},
   "outputs": [
    {
     "name": "stdout",
     "output_type": "stream",
     "text": [
      "Total Tweet Recieve : '5633' streaming tweet\n"
     ]
    }
   ],
   "source": [
    "tweets_data_path = 'data/streamingtweet.json' #data after streaming script in JSON\n",
    "tweets_file = open(tweets_data_path, \"r\")\n",
    "\n",
    "tweets_data = [] #empty list\n",
    "\n",
    "for line in tweets_file:\n",
    "    try:\n",
    "        tweet = json.loads(line)\n",
    "        if 'text' in tweet:\n",
    "            #if ( retweeted is False):\n",
    "                tweets_data.append(tweet)\n",
    "    except:\n",
    "        continue\n",
    "\n",
    "tweets = pd.DataFrame() #empty df\n",
    "\n",
    "length = len(tweets_data)\n",
    "print(\"Total Tweet Recieve : '{}' streaming tweet\".format(length)) #how many tweet collected"
   ]
  },
  {
   "cell_type": "code",
   "execution_count": 144,
   "metadata": {
    "collapsed": true
   },
   "outputs": [],
   "source": [
    "# Extract the useful data from JSON \n",
    "\n",
    "tweets['text'] = list(map(lambda tweet: tweet['text'], tweets_data))\n",
    "#tweets['text2'] = list(map(lambda tweet: tweet.user_name['locations'], tweets_data))\n",
    "#tweets['sentiment'] = list(map(lambda tweet: tweet['sentiment'], tweets_data))\n",
    "#print(tweets['text']) #show all the tweet"
   ]
  },
  {
   "cell_type": "code",
   "execution_count": 145,
   "metadata": {
    "collapsed": true
   },
   "outputs": [],
   "source": [
    "#save the tweet before perform other cleaning step and assign the class label\n",
    "\n",
    "filename = 'data/save-txt-tweet.csv'\n",
    "csvFile = open(filename, 'w')\n",
    "csvWriter = csv.writer(csvFile, delimiter='\\t', quoting=csv.QUOTE_ALL)\n",
    "\n",
    "count = 0\n",
    "\n",
    "for tweet in tweets['text']:\n",
    "    csvWriter.writerow([tweet])\n",
    "    count += 1\n",
    "    \n",
    "csvFile.close()"
   ]
  },
  {
   "cell_type": "code",
   "execution_count": 132,
   "metadata": {},
   "outputs": [],
   "source": [
    "cols = ['text'] #assign column for read CSV\n",
    "\n",
    "df = pd.read_csv(filename,header=None, names=cols)\n",
    "df[\"label\"] = \"\" #lavel column assign\n",
    "df['text'] = df['text'].str.replace('@',' ') #remove @ \n",
    "df = df[df.text.str.contains(\"rt\" or \"RT\") == False] #remove RT\n",
    "\n",
    "remlink = []\n",
    "for i in df['text']:\n",
    "    a = re.sub(r\"http\\S+\", \"\", i)\n",
    "    remlink.append(a)\n",
    "    \n",
    "df['text'] = remlink #update TEXT after remove LINK\n"
   ]
  },
  {
   "cell_type": "code",
   "execution_count": 133,
   "metadata": {
    "collapsed": true
   },
   "outputs": [],
   "source": [
    "# New df for remove tweet not according to keywords\n",
    "\n",
    "dfkeyword = df[df.text.str.contains(\"traffic | traffic slow| slow | traffic jammed | accident | stuck\")]\n",
    "dfkeyword=dfkeyword.reset_index()\n",
    "#dfkeyword = df[df.text.str.contains(\"makan\") == True]\n",
    "#dfkeyword = df[df.text.str.contains(\"hujan\") == True]\n",
    "\n",
    "del dfkeyword['index'] #del default index col"
   ]
  },
  {
   "cell_type": "code",
   "execution_count": 134,
   "metadata": {},
   "outputs": [
    {
     "data": {
      "text/html": [
       "<div>\n",
       "<style>\n",
       "    .dataframe thead tr:only-child th {\n",
       "        text-align: right;\n",
       "    }\n",
       "\n",
       "    .dataframe thead th {\n",
       "        text-align: left;\n",
       "    }\n",
       "\n",
       "    .dataframe tbody tr th {\n",
       "        vertical-align: top;\n",
       "    }\n",
       "</style>\n",
       "<table border=\"1\" class=\"dataframe\">\n",
       "  <thead>\n",
       "    <tr style=\"text-align: right;\">\n",
       "      <th></th>\n",
       "      <th>text</th>\n",
       "      <th>label</th>\n",
       "    </tr>\n",
       "  </thead>\n",
       "  <tbody>\n",
       "    <tr>\n",
       "      <th>0</th>\n",
       "      <td>Hari2 mmg bengang dgn bos sendiri.. Tak kisah ...</td>\n",
       "      <td></td>\n",
       "    </tr>\n",
       "    <tr>\n",
       "      <th>1</th>\n",
       "      <td>my_malaysia TS...minta trafik polis pantau tr...</td>\n",
       "      <td></td>\n",
       "    </tr>\n",
       "    <tr>\n",
       "      <th>2</th>\n",
       "      <td>Done with my work around 4pm. Got stuck in the...</td>\n",
       "      <td></td>\n",
       "    </tr>\n",
       "    <tr>\n",
       "      <th>3</th>\n",
       "      <td>10x hijau dah traffic light tu.</td>\n",
       "      <td></td>\n",
       "    </tr>\n",
       "    <tr>\n",
       "      <th>4</th>\n",
       "      <td>Im stuck. (  Bazaar Ramadhan Bandar Baru Selay...</td>\n",
       "      <td></td>\n",
       "    </tr>\n",
       "    <tr>\n",
       "      <th>5</th>\n",
       "      <td>Tadi aku rasa aku bawah slow hbs dh kat jalan ...</td>\n",
       "      <td></td>\n",
       "    </tr>\n",
       "    <tr>\n",
       "      <th>6</th>\n",
       "      <td>Lagi sedih bila driver kereta yg punca kitaorg...</td>\n",
       "      <td></td>\n",
       "    </tr>\n",
       "    <tr>\n",
       "      <th>7</th>\n",
       "      <td>Huzair ni, dah kena accident pun nak buat jaha...</td>\n",
       "      <td></td>\n",
       "    </tr>\n",
       "  </tbody>\n",
       "</table>\n",
       "</div>"
      ],
      "text/plain": [
       "                                                text label\n",
       "0  Hari2 mmg bengang dgn bos sendiri.. Tak kisah ...      \n",
       "1   my_malaysia TS...minta trafik polis pantau tr...      \n",
       "2  Done with my work around 4pm. Got stuck in the...      \n",
       "3                   10x hijau dah traffic light tu.       \n",
       "4  Im stuck. (  Bazaar Ramadhan Bandar Baru Selay...      \n",
       "5  Tadi aku rasa aku bawah slow hbs dh kat jalan ...      \n",
       "6  Lagi sedih bila driver kereta yg punca kitaorg...      \n",
       "7  Huzair ni, dah kena accident pun nak buat jaha...      "
      ]
     },
     "execution_count": 134,
     "metadata": {},
     "output_type": "execute_result"
    }
   ],
   "source": [
    "dfkeyword"
   ]
  },
  {
   "cell_type": "code",
   "execution_count": 137,
   "metadata": {},
   "outputs": [],
   "source": [
    "# Malay Stop Word ONLY\n",
    "\n",
    "\n",
    "stop_words = set({'ada','inikah','sampai','adakah','inilah','sana','adakan','itu','sangat','adalah','itukah','sangatlah','adanya','itulah','saya','adapun','jadi','se','agak','jangan','seandainya','agar','janganlah','sebab','akan','jika','sebagai','aku','jikalau','sebagaimana','akulah','jua','sebanyak','akupun','juapun','sebelum','al','juga','sebelummu','alangkah','kalau','sebelumnya','allah','kami','sebenarnya','amat','kamikah','secara','antara','kamipun','sedang','antaramu','kamu','sedangkan','antaranya','kamukah','sedikit','apa','kamupun','sedikitpun','apa-apa','katakan','segala','apabila','ke','sehingga','apakah','kecuali','sejak','apapun','kelak','sekalian','atas','kembali','sekalipun','atasmu','kemudian','sekarang','atasnya','kepada','sekitar','atau','kepadaku','selain','ataukah','kepadakulah','selalu','ataupun','kepadamu','selama','bagaimana','kepadanya','selama-lamanya','bagaimanakah','kepadanyalah','seluruh','bagi','kerana','seluruhnya','bagimu','kerananya','sementara','baginya','kesan','semua','bahawa','ketika','semuanya','bahawasanya','kini','semula','bahkan','kita','senantiasa','bahwa','ku','sendiri','banyak','kurang','sentiasa','banyaknya','lagi','seolah','barangsiapa','lain','seolah-olah','bawah','lalu','seorangpun','beberapa','lamanya','separuh','begitu','langsung','sepatutnya','begitupun','lebih','seperti','belaka','maha','seraya','belum','mahu','sering','belumkah','mahukah','serta','berada','mahupun','seseorang','berapa','maka','sesiapa','berikan','malah','sesuatu','beriman','mana','sesudah','berkenaan','manakah','sesudahnya','berupa','manapun','sesungguhnya','beserta','masih','sesungguhnyakah','biarpun','masing','setelah','bila','masing-masing','setiap','bilakah','melainkan','siapa','bilamana','memang','siapakah','bisa','mempunyai','sini','boleh','mendapat','situ','bukan','mendapati','situlah','bukankah','mendapatkan','suatu','bukanlah','mengadakan','sudah','dahulu','mengapa','sudahkah','dalam','mengapakah','sungguh','dalamnya','mengenai','sungguhpun','dan','menjadi','supaya','dapat','menyebabkan','tadinya','dapati','menyebabkannya','tahukah','dapatkah','mereka','tak','dapatlah','merekalah','tanpa','dari','merekapun','tanya','daripada','meskipun','tanyakanlah','daripadaku','mu','tapi','daripadamu','nescaya','telah','daripadanya','niscaya','tentang','demi','nya','tentu','demikian','olah','terdapat','demikianlah','oleh','terhadap','dengan','orang','terhadapmu','dengannya','pada','termasuk','di','padahal','terpaksa','dia','padamu','tertentu','dialah','padanya','tetapi','didapat','paling','tiada','didapati','para','tiadakah','dimanakah','pasti','tiadalah','engkau','patut','tiap','engkaukah','patutkah','tiap-tiap','engkaulah','per','tidak','engkaupun','pergilah','tidakkah','hai','perkara','tidaklah','hampir','perkaranya','turut','hampir-hampir','perlu','untuk','hanya','pernah','untukmu','hanyalah','pertama','wahai','hendak','pula','walau','hendaklah','pun','walaupun','hingga','sahaja','ya','ia','saja','yaini','iaitu','saling','yaitu','ialah','sama','yakni','ianya','yang','inginkah','samakah','ini','sambil'})\n",
    "\n",
    "\n",
    "c = []\n",
    "\n",
    "for word in dfkeyword['text']:\n",
    "    word=word.lower()\n",
    "    word_tokens = word_tokenize(word)\n",
    "    filtered_sentence = [w for w in word_tokens if not w in stop_words]\n",
    "    if word not in stop_words:        \n",
    "        filtered_sentence.append(word)\n",
    "        a=\" \".join( filtered_sentence )\n",
    "        c.append(a)\n",
    "\n",
    "    \n",
    "dfkeyword['text'] = c"
   ]
  },
  {
   "cell_type": "code",
   "execution_count": 138,
   "metadata": {},
   "outputs": [
    {
     "data": {
      "text/html": [
       "<div>\n",
       "<style>\n",
       "    .dataframe thead tr:only-child th {\n",
       "        text-align: right;\n",
       "    }\n",
       "\n",
       "    .dataframe thead th {\n",
       "        text-align: left;\n",
       "    }\n",
       "\n",
       "    .dataframe tbody tr th {\n",
       "        vertical-align: top;\n",
       "    }\n",
       "</style>\n",
       "<table border=\"1\" class=\"dataframe\">\n",
       "  <thead>\n",
       "    <tr style=\"text-align: right;\">\n",
       "      <th></th>\n",
       "      <th>text</th>\n",
       "      <th>label</th>\n",
       "    </tr>\n",
       "  </thead>\n",
       "  <tbody>\n",
       "    <tr>\n",
       "      <th>0</th>\n",
       "      <td>hari2 mmg bengang dgn bos sendiri.. kisah buat...</td>\n",
       "      <td></td>\n",
       "    </tr>\n",
       "    <tr>\n",
       "      <th>1</th>\n",
       "      <td>my_malaysia ts ... minta trafik polis pantau t...</td>\n",
       "      <td></td>\n",
       "    </tr>\n",
       "    <tr>\n",
       "      <th>2</th>\n",
       "      <td>done with my work around 4pm . got stuck in th...</td>\n",
       "      <td></td>\n",
       "    </tr>\n",
       "    <tr>\n",
       "      <th>3</th>\n",
       "      <td>10x hijau dah traffic light tu . 10x hijau dah...</td>\n",
       "      <td></td>\n",
       "    </tr>\n",
       "    <tr>\n",
       "      <th>4</th>\n",
       "      <td>im stuck . ( bazaar ramadhan bandar baru selay...</td>\n",
       "      <td></td>\n",
       "    </tr>\n",
       "    <tr>\n",
       "      <th>5</th>\n",
       "      <td>tadi rasa slow hbs dh kat jalan raya , still x...</td>\n",
       "      <td></td>\n",
       "    </tr>\n",
       "    <tr>\n",
       "      <th>6</th>\n",
       "      <td>sedih driver kereta yg punca kitaorg 3 moto ac...</td>\n",
       "      <td></td>\n",
       "    </tr>\n",
       "    <tr>\n",
       "      <th>7</th>\n",
       "      <td>huzair ni , dah kena accident nak buat jahat ....</td>\n",
       "      <td></td>\n",
       "    </tr>\n",
       "  </tbody>\n",
       "</table>\n",
       "</div>"
      ],
      "text/plain": [
       "                                                text label\n",
       "0  hari2 mmg bengang dgn bos sendiri.. kisah buat...      \n",
       "1  my_malaysia ts ... minta trafik polis pantau t...      \n",
       "2  done with my work around 4pm . got stuck in th...      \n",
       "3  10x hijau dah traffic light tu . 10x hijau dah...      \n",
       "4  im stuck . ( bazaar ramadhan bandar baru selay...      \n",
       "5  tadi rasa slow hbs dh kat jalan raya , still x...      \n",
       "6  sedih driver kereta yg punca kitaorg 3 moto ac...      \n",
       "7  huzair ni , dah kena accident nak buat jahat ....      "
      ]
     },
     "execution_count": 138,
     "metadata": {},
     "output_type": "execute_result"
    }
   ],
   "source": [
    "dfkeyword"
   ]
  },
  {
   "cell_type": "code",
   "execution_count": 139,
   "metadata": {},
   "outputs": [
    {
     "name": "stdout",
     "output_type": "stream",
     "text": [
      "1 : hari2 mmg bengang dgn bos sendiri.. kisah buat keje slow tp rajin . takde nak marah . ni kerja nak bu… hari2 mmg bengang dgn bos sendiri.. tak kisah kalau buat keje slow tp rajin. takde orang nak marah.\n",
      "ni kerja nak bu… \n",
      "1 ... 00\n",
      "\n",
      "\n",
      "2 : my_malaysia ts ... minta trafik polis pantau traffic light ampang park tksh  my_malaysia ts...minta trafik polis pantau traffic light ampang park tksh\n",
      "1 ... 00\n",
      "\n",
      "\n",
      "3 : done with my work around 4pm . got stuck in the jam and reached home around 5.50pm . and then i received a call regar… done with my work around 4pm. got stuck in the jam and reached home around 5.50pm. and then i received a call regar… \n",
      "1 ... 01\n",
      "\n",
      "\n",
      "4 : 10x hijau dah traffic light tu . 10x hijau dah traffic light tu. \n",
      "1 ... 01\n",
      "\n",
      "\n",
      "5 : im stuck . ( bazaar ramadhan bandar baru selayang ) im stuck. (  bazaar ramadhan bandar baru selayang) \n",
      "1 ... 01\n",
      "\n",
      "\n",
      "6 : tadi rasa slow hbs dh kat jalan raya , still x sempat break , sebb dah rapat sgt.. kesian d… tadi aku rasa aku bawah slow hbs dh kat jalan raya, tapi still x sempat break, sebb dah rapat sgt.. paling kesian d… \n",
      "1 ... 01\n",
      "\n",
      "\n",
      "7 : sedih driver kereta yg punca kitaorg 3 moto accident ni ade la bangla.. ko rase. ? punya x nk ngaku sa… lagi sedih bila driver kereta yg punca kitaorg 3 moto accident ni ade la bangla.. ko rase.? dia punya x nk ngaku sa… \n",
      "1 ... 00\n",
      "\n",
      "\n",
      "8 : huzair ni , dah kena accident nak buat jahat . huzair ni, dah kena accident pun nak buat jahat lagi.\n",
      "1 ... 00\n",
      "\n",
      "\n"
     ]
    }
   ],
   "source": [
    "#Insert class label (1 - yes | 0 - no)\n",
    "\n",
    "yn =[]\n",
    "count=1\n",
    "for i in dfkeyword['text'] :\n",
    "    print(\"{} : {}\".format(count,i))\n",
    "    yon = int(input(\"1 ... 0\"))\n",
    "    print(\"\\n\")\n",
    "    yn.append(yon)\n",
    "    count+=1\n",
    "    \n",
    "dfkeyword['label'] = yn"
   ]
  },
  {
   "cell_type": "code",
   "execution_count": 140,
   "metadata": {},
   "outputs": [
    {
     "data": {
      "text/html": [
       "<div>\n",
       "<style>\n",
       "    .dataframe thead tr:only-child th {\n",
       "        text-align: right;\n",
       "    }\n",
       "\n",
       "    .dataframe thead th {\n",
       "        text-align: left;\n",
       "    }\n",
       "\n",
       "    .dataframe tbody tr th {\n",
       "        vertical-align: top;\n",
       "    }\n",
       "</style>\n",
       "<table border=\"1\" class=\"dataframe\">\n",
       "  <thead>\n",
       "    <tr style=\"text-align: right;\">\n",
       "      <th></th>\n",
       "      <th>text</th>\n",
       "      <th>label</th>\n",
       "    </tr>\n",
       "  </thead>\n",
       "  <tbody>\n",
       "    <tr>\n",
       "      <th>0</th>\n",
       "      <td>hari2 mmg bengang dgn bos sendiri.. kisah buat...</td>\n",
       "      <td>0</td>\n",
       "    </tr>\n",
       "    <tr>\n",
       "      <th>1</th>\n",
       "      <td>my_malaysia ts ... minta trafik polis pantau t...</td>\n",
       "      <td>0</td>\n",
       "    </tr>\n",
       "    <tr>\n",
       "      <th>2</th>\n",
       "      <td>done with my work around 4pm . got stuck in th...</td>\n",
       "      <td>1</td>\n",
       "    </tr>\n",
       "    <tr>\n",
       "      <th>3</th>\n",
       "      <td>10x hijau dah traffic light tu . 10x hijau dah...</td>\n",
       "      <td>1</td>\n",
       "    </tr>\n",
       "    <tr>\n",
       "      <th>4</th>\n",
       "      <td>im stuck . ( bazaar ramadhan bandar baru selay...</td>\n",
       "      <td>1</td>\n",
       "    </tr>\n",
       "    <tr>\n",
       "      <th>5</th>\n",
       "      <td>tadi rasa slow hbs dh kat jalan raya , still x...</td>\n",
       "      <td>1</td>\n",
       "    </tr>\n",
       "    <tr>\n",
       "      <th>6</th>\n",
       "      <td>sedih driver kereta yg punca kitaorg 3 moto ac...</td>\n",
       "      <td>0</td>\n",
       "    </tr>\n",
       "    <tr>\n",
       "      <th>7</th>\n",
       "      <td>huzair ni , dah kena accident nak buat jahat ....</td>\n",
       "      <td>0</td>\n",
       "    </tr>\n",
       "  </tbody>\n",
       "</table>\n",
       "</div>"
      ],
      "text/plain": [
       "                                                text  label\n",
       "0  hari2 mmg bengang dgn bos sendiri.. kisah buat...      0\n",
       "1  my_malaysia ts ... minta trafik polis pantau t...      0\n",
       "2  done with my work around 4pm . got stuck in th...      1\n",
       "3  10x hijau dah traffic light tu . 10x hijau dah...      1\n",
       "4  im stuck . ( bazaar ramadhan bandar baru selay...      1\n",
       "5  tadi rasa slow hbs dh kat jalan raya , still x...      1\n",
       "6  sedih driver kereta yg punca kitaorg 3 moto ac...      0\n",
       "7  huzair ni , dah kena accident nak buat jahat ....      0"
      ]
     },
     "execution_count": 140,
     "metadata": {},
     "output_type": "execute_result"
    }
   ],
   "source": [
    "dfkeyword"
   ]
  },
  {
   "cell_type": "code",
   "execution_count": 146,
   "metadata": {
    "collapsed": true
   },
   "outputs": [],
   "source": [
    "dfkeyword.to_csv('data/tweet-label-class.csv', encoding='utf-8',header=True)"
   ]
  }
 ],
 "metadata": {
  "kernelspec": {
   "display_name": "Python 3",
   "language": "python",
   "name": "python3"
  },
  "language_info": {
   "codemirror_mode": {
    "name": "ipython",
    "version": 3
   },
   "file_extension": ".py",
   "mimetype": "text/x-python",
   "name": "python",
   "nbconvert_exporter": "python",
   "pygments_lexer": "ipython3",
   "version": "3.6.3"
  }
 },
 "nbformat": 4,
 "nbformat_minor": 2
}
